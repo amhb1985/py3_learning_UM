{
 "cells": [
  {
   "cell_type": "code",
   "execution_count": 4,
   "id": "cbc2f77b-3c64-4b2e-87f9-70d82acd34ae",
   "metadata": {},
   "outputs": [],
   "source": [
    "fileref = (\"info.txt\",\"r\")"
   ]
  },
  {
   "cell_type": "code",
   "execution_count": 6,
   "id": "2b03247a-01b2-4e41-9d68-7f6b16182541",
   "metadata": {},
   "outputs": [
    {
     "name": "stdout",
     "output_type": "stream",
     "text": [
      "info.txt r\n"
     ]
    }
   ],
   "source": [
    "#testing again but with another platform_Jupter\n",
    "#so because of testing i just set another command like print:\n",
    "print(\"info.txt\",\"r\")"
   ]
  },
  {
   "cell_type": "code",
   "execution_count": 1,
   "id": "2baaf2ba-1688-4f87-87cf-d00a302b91e5",
   "metadata": {},
   "outputs": [
    {
     "name": "stdout",
     "output_type": "stream",
     "text": [
      "1\n",
      "4\n",
      "9\n",
      "16\n",
      "25\n",
      "36\n",
      "49\n",
      "64\n",
      "81\n",
      "100\n",
      "121\n",
      "144\n"
     ]
    }
   ],
   "source": [
    "for number in range(1, 13):\n",
    "    square = number * number\n",
    "    print(square)\n",
    "    #test aagain with the Jupiter\n",
    "\n"
   ]
  },
  {
   "cell_type": "code",
   "execution_count": null,
   "id": "4993e322-1d86-4850-b50a-fae8d9eddef1",
   "metadata": {},
   "outputs": [],
   "source": []
  }
 ],
 "metadata": {
  "kernelspec": {
   "display_name": "Python 3 (ipykernel)",
   "language": "python",
   "name": "python3"
  },
  "language_info": {
   "codemirror_mode": {
    "name": "ipython",
    "version": 3
   },
   "file_extension": ".py",
   "mimetype": "text/x-python",
   "name": "python",
   "nbconvert_exporter": "python",
   "pygments_lexer": "ipython3",
   "version": "3.10.13"
  }
 },
 "nbformat": 4,
 "nbformat_minor": 5
}
