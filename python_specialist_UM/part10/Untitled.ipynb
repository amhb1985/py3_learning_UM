{
 "cells": [
  {
   "cell_type": "code",
   "execution_count": 21,
   "id": "cbc2f77b-3c64-4b2e-87f9-70d82acd34ae",
   "metadata": {},
   "outputs": [],
   "source": [
    "fileref = (\"info.txt\",\"r\")"
   ]
  },
  {
   "cell_type": "code",
   "execution_count": 22,
   "id": "2b03247a-01b2-4e41-9d68-7f6b16182541",
   "metadata": {},
   "outputs": [
    {
     "name": "stdout",
     "output_type": "stream",
     "text": [
      "info.txt r\n"
     ]
    }
   ],
   "source": [
    "#testing again but with another platform_Jupter\n",
    "#so because of testing i just set another command like print:\n",
    "print(\"info.txt\",\"r\")"
   ]
  },
  {
   "cell_type": "code",
   "execution_count": null,
   "id": "2baaf2ba-1688-4f87-87cf-d00a302b91e5",
   "metadata": {},
   "outputs": [],
   "source": []
  },
  {
   "cell_type": "code",
   "execution_count": 23,
   "id": "4993e322-1d86-4850-b50a-fae8d9eddef1",
   "metadata": {},
   "outputs": [],
   "source": [
    "for number2 in range(7, 5):\n",
    "    plus = number2 * number2\n",
    "    print(plus)\n",
    "    \n",
    "\n"
   ]
  },
  {
   "cell_type": "code",
   "execution_count": null,
   "id": "9aab11ac-aad7-4046-b953-4fef0e93154d",
   "metadata": {},
   "outputs": [],
   "source": []
  },
  {
   "cell_type": "code",
   "execution_count": null,
   "id": "92989a86-3fbc-4475-8e2a-b23cff6d66c7",
   "metadata": {},
   "outputs": [],
   "source": []
  }
 ],
 "metadata": {
  "kernelspec": {
   "display_name": "Python 3 (ipykernel)",
   "language": "python",
   "name": "python3"
  },
  "language_info": {
   "codemirror_mode": {
    "name": "ipython",
    "version": 3
   },
   "file_extension": ".py",
   "mimetype": "text/x-python",
   "name": "python",
   "nbconvert_exporter": "python",
   "pygments_lexer": "ipython3",
   "version": "3.10.13"
  }
 },
 "nbformat": 4,
 "nbformat_minor": 5
}
